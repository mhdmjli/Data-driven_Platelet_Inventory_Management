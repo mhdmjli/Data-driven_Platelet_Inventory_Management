{
 "cells": [
  {
   "cell_type": "markdown",
   "id": "4f0bd917",
   "metadata": {},
   "source": [
    "# The Decision Model\n",
    "We consider the case where the remaining age of all delivered units is assumed to be fixed and equal to $\\mu \\in \\{1,,\\dots,m\\}$.\n",
    "Let $\\mathcal{N}:=\\{1,\\ldots,n\\}$ and denote by $q_t$ the estimated required inventory for period $t$ based on the relevant features and an intercept term; $x_{t,i}$ the inventory level of units with a remaining shelf-life of $i\\in \\{1,\\ldots,m-1\\}$ days in period $t$; $y_t$ the ordering quantity for period $t$; and $s_{t,i}$ the number of on-hand units with the remaining shelf-life of $i$ days used to satisfy the demand in period $t$, shown by $d_t$. The following linear program jointly determines the coefficients vector $\\boldsymbol{\\beta}$ and the sequence of variables $\\{s_{t,i}\\}$ to minimize the empirical cost over a specific number of periods (i.e., $n$), while satisfying the inventory dynamics and Lasso regularization.\n",
    "\n",
    "\\begin{align}\n",
    "    \\min_{\\boldsymbol{\\beta},\\{s_{t,i}\\}} \\, &\\sum_{t=1}^{n}  \\big(w_t + c\\times l_t\\big), \\label{objective}\\\\\n",
    "    \\mbox{s.t.} \\nonumber \\\\\n",
    "    &q_{t} = \\textbf{z}_t \\cdot \\boldsymbol{\\beta} \\quad \\forall t\\in \\mathcal{N},  \\label{pred}\\\\\n",
    "    &y_t = q_{t} - \\sum_{i=1}^{m-1}x_{t,i} \\quad \\forall t\\in \\mathcal{N},\\label{order}\\\\\n",
    "    &w_t = x_{t,1} + 1_{\\{\\mu=1\\}} y_t- s_{t,1}\\quad \\forall t\\in \\mathcal{N},\\label{waste}\\\\  \n",
    "    &x_{t+1,j} =  x_{t,j+1} + 1_{\\{\\mu=j+1\\}} y_t - s_{t,j+1} \\quad \\forall j\\in\\{1,\\ldots, m-2\\}, \\, t\\in \\mathcal{N},\\\\\n",
    "    &x_{t+1,m-1} =  1_{\\{\\mu=m\\}} y_t - s_{t,m} \\quad \\forall t\\in \\mathcal{N},  \\label{dynamic}\\\\\n",
    "    &\\sum_{i=1}^m s_{t,i} + l_t = d_t \\quad \\forall t\\in \\mathcal{N},  \\label{allocation}\\\\\n",
    "    &\\sum_{k=1}^{p}u_k \\leq \\epsilon, \\\\\n",
    "    &\\beta_k \\leq u_k, \\quad \\forall k \\in \\{1,\\dots,p\\}\\\\\n",
    "   -&\\beta_k \\leq u_k, \\quad \\forall k \\in \\{1,\\dots,p\\}\\\\\n",
    "    &l_t \\geq 0, \\label{l_nn}\\\\\n",
    "    &w_t \\geq 0, \\label{w_nn}\\\\\n",
    "    &s_{t,i} \\geq 0, \\quad \\forall i\\in\\{1,\\ldots, m\\}\\label{s_nn}\\\\\n",
    "    &x_{t+1,j}\\geq 0, \\quad \\forall j\\in\\{1,\\ldots, m-1\\}\\label{lc}\n",
    "\\end{align} \n",
    "\n",
    "where $1_{\\{\\mu=a\\}}:=1$ if $\\mu=a$, and 0 otherwise. \n",
    "\n",
    "The variables $w_t$ and $l_t$ respectively denote the number of wasted units and lost demand in period $t$ and are determined through the 3rd and 6th set of constraints. For more detail, the interested readers are encouraged to read the following paper:\n",
    "\n",
    "Abouee Mehrizi, H., Mirjalili, M. and Sarhangian, V., 2021. Data-Driven Platelet Inventory Management Under Uncertainty in the Remaining Shelf-Life of Units. Available at SSRN 3859034."
   ]
  },
  {
   "cell_type": "markdown",
   "id": "cc3d7de5",
   "metadata": {},
   "source": [
    "# Import Packages"
   ]
  },
  {
   "cell_type": "code",
   "execution_count": 1,
   "id": "d819ff3d",
   "metadata": {},
   "outputs": [],
   "source": [
    "import gurobipy as gp\n",
    "from gurobipy import GRB\n",
    "import numpy as np\n",
    "import pandas as pd\n",
    "import matplotlib.pyplot as plt\n",
    "from tqdm import tqdm\n",
    "from datetime import date\n",
    "import scipy.stats as stats\n",
    "import pickle"
   ]
  },
  {
   "cell_type": "markdown",
   "id": "d095a64c",
   "metadata": {},
   "source": [
    "# Build the model"
   ]
  },
  {
   "cell_type": "code",
   "execution_count": 2,
   "id": "5be72d53",
   "metadata": {},
   "outputs": [],
   "source": [
    "# data: It is a DataFrame in Python with the first column including the historical demand values and the other columns the extracted features values (e.g., the average daily demand during the last week)\n",
    "# ind: It is used for cross validation to distinguish periods for which the model should be trained over.\n",
    "# start: For some features (e.g., the average daily demand over the past week), we should wait a few periods before starting collecting data (e.g., 7 days).\n",
    "def estimation(data, epsilon, mu = None, start = 9, ind = None, flag = 0, c = 1):\n",
    "    \n",
    "    if ind is None: # Train the model using data in the training set that consists of 731 periods (within the years 2015-2016)\n",
    "        ind = np.arange(731)\n",
    "    \n",
    "    # Feature columns\n",
    "    XX = data.iloc[0:731, 1:len(data.columns)]\n",
    "    # Demand column\n",
    "    d = data.iloc[0:731, 0]\n",
    "\n",
    "    n = len(d)\n",
    "    p = len(XX.columns)  \n",
    "\n",
    "    if mu is None:\n",
    "        # The maximum possible shelf-life for platelets is 5 days.\n",
    "        mu = np.zeros((n, 5))\n",
    "        # The default value for the remaining shelf-life of all received units is set to 3 days.\n",
    "        mu[:,2] = np.ones(n)\n",
    "    \n",
    "    try:  \n",
    "        model = gp.Model(\"Estimation\")\n",
    "\n",
    "        # Create decision variables\n",
    "        b = model.addVars(p+1,  lb=-10000, vtype=GRB.CONTINUOUS, name=\"b\")\n",
    "        u = model.addVars(p, vtype=GRB.CONTINUOUS, name=\"u\")\n",
    "\n",
    "        w = model.addVars(n, lb=0.0, ub=GRB.INFINITY, vtype=GRB.CONTINUOUS, name=\"w\")\n",
    "        l = model.addVars(n, lb=0.0, ub=GRB.INFINITY, vtype=GRB.CONTINUOUS, name=\"l\")\n",
    "        x1 = model.addVars(n+1, lb=0.0, ub=GRB.INFINITY, vtype=GRB.CONTINUOUS, name=\"x1\")\n",
    "        x2 = model.addVars(n+1, lb=0.0, ub=GRB.INFINITY, vtype=GRB.CONTINUOUS, name=\"x2\")\n",
    "        x3 = model.addVars(n+1, lb=0.0, ub=GRB.INFINITY, vtype=GRB.CONTINUOUS, name=\"x3\")\n",
    "        x4 = model.addVars(n+1, lb=0.0, ub=GRB.INFINITY, vtype=GRB.CONTINUOUS, name=\"x4\")\n",
    "        y = model.addVars(n, lb=0.0, ub=GRB.INFINITY, vtype=GRB.CONTINUOUS, name=\"y\")\n",
    "        s1 = model.addVars(n, lb=0.0, ub=GRB.INFINITY, vtype=GRB.CONTINUOUS, name=\"s1\")\n",
    "        s2 = model.addVars(n, lb=0.0, ub=GRB.INFINITY, vtype=GRB.CONTINUOUS, name=\"s2\")\n",
    "        s3 = model.addVars(n, lb=0.0, ub=GRB.INFINITY, vtype=GRB.CONTINUOUS, name=\"s3\")\n",
    "        s4 = model.addVars(n, lb=0.0, ub=GRB.INFINITY, vtype=GRB.CONTINUOUS, name=\"s4\")\n",
    "        s5 = model.addVars(n, lb=0.0, ub=GRB.INFINITY, vtype=GRB.CONTINUOUS, name=\"s5\")\n",
    "        \n",
    "        # Set the initial inventory to zero\n",
    "        model.addConstr(x1[start] == 0)\n",
    "        model.addConstr(x2[start] == 0)\n",
    "        model.addConstr(x3[start] == 0)\n",
    "        model.addConstr(x4[start] == 0)\n",
    "\n",
    "\n",
    "        for i in range(start, n, 1):\n",
    "            if i in ind:\n",
    "                model.addConstr(y[i] == b[0] + sum(XX.iloc[i,k]*b[k+1] for k in range(p)) - x1[i] - x2[i] - x3[i] - x4[i])\n",
    "            else:\n",
    "                model.addConstr(y[i] == d[i])\n",
    "\n",
    "        # Wastage for day i\n",
    "        model.addConstrs(w[i] == x1[i] + mu[i][0]*y[i] - s1[i] for i in range(start, n, 1))\n",
    "        \n",
    "        # Update the inventory levels for the next day\n",
    "        model.addConstrs(x1[i+1] == x2[i] + mu[i][1]*y[i] - s2[i] for i in range(start, n, 1))   \n",
    "        model.addConstrs(x2[i+1] == x3[i] + mu[i][2]*y[i] - s3[i] for i in range(start, n, 1))\n",
    "        model.addConstrs(x3[i+1] == x4[i] + mu[i][3]*y[i] - s4[i] for i in range(start, n, 1))    \n",
    "        model.addConstrs(x4[i+1] == mu[i][4]*y[i] - s5[i] for i in range(start, n, 1))\n",
    "        \n",
    "        # Allocation constraint to determine the shortage for day i\n",
    "        model.addConstrs(s1[i] + s2[i] + s3[i] + s4[i] + s5[i] + l[i] == d[i] for i in range(start, n, 1))\n",
    "\n",
    "        \n",
    "        model.addConstrs(u[i] + b[i+1] >= 0 for i in range(p))\n",
    "        model.addConstrs(u[i] - b[i+1] >= 0 for i in range(p))\n",
    "\n",
    "        # Set optimization objective\n",
    "        model.setObjective(sum(w[i] + c*l[i] for i in ind) , GRB.MINIMIZE)   \n",
    "\n",
    "        # Find the coefficients vector for the given values of the sparsity penalty\n",
    "        coeffients_matrix = np.zeros((p+1, len(epsilon)))\n",
    "        for i in range(len(epsilon)):\n",
    "            model.addConstr(u.sum() <= epsilon[i])\n",
    "\n",
    "            model.Params.OutputFlag = flag\n",
    "\n",
    "            # Optimize\n",
    "            model.optimize()\n",
    "\n",
    "            coeffs = [b[j].x for j in range (p+1)]\n",
    "            coeffients_matrix[:, i] = coeffs\n",
    "\n",
    "    except gp.GurobiError as e:\n",
    "        print('Error code ' + str(e.errno) + \": \" + str(e))\n",
    "    except AttributeError:\n",
    "        print('Encountered an attribute error')\n",
    "    \n",
    "    return coeffients_matrix"
   ]
  },
  {
   "cell_type": "markdown",
   "id": "172c6094",
   "metadata": {},
   "source": [
    "# Build the cross validation\n",
    "We first find the best value of the epsilon hyperparameter for each of the possible remaining age values $\\mu$. Then, we redo cross validation under uncertainty in the remaining age of delivered units and pick the best value of $\\mu$."
   ]
  },
  {
   "cell_type": "code",
   "execution_count": 3,
   "id": "72f4dacd",
   "metadata": {},
   "outputs": [],
   "source": [
    "def pos(x): return max(x,0)"
   ]
  },
  {
   "cell_type": "code",
   "execution_count": 4,
   "id": "382cb04d",
   "metadata": {},
   "outputs": [],
   "source": [
    "def create_folds(n, nfold):\n",
    "    foldid = np.zeros(n)\n",
    "    fold_len = np.int_(np.floor( (n + 0.1) / nfold ))\n",
    "    for i in range(nfold):\n",
    "        if i < nfold - 1:\n",
    "            foldid[(i*fold_len):((i+1)*fold_len)] = [(i + 1) for j in range(fold_len)]\n",
    "        else:\n",
    "            foldid[(i*fold_len):n] = [(i + 1) for j in range(n-i*fold_len)]\n",
    "    return foldid"
   ]
  },
  {
   "cell_type": "code",
   "execution_count": 5,
   "id": "1bfb2b9f",
   "metadata": {},
   "outputs": [],
   "source": [
    "def compute_prediction_statistics (d, pred, mu = None, start = 9):\n",
    "        \n",
    "    n = len(d)\n",
    "    x = np.zeros((n, 4))\n",
    "    y = np.zeros(n)\n",
    "    w = np.zeros(n)\n",
    "    l = np.zeros(n)\n",
    "    \n",
    "    if mu is None:\n",
    "        mu = np.zeros((n, 5))\n",
    "        mu[:,2] = np.ones(n)\n",
    "        \n",
    "    for i in range(start, n, 1):\n",
    "        y[i] = np.ceil(pos(pred[i] - x[i, 0] - x[i, 1] - x[i, 2] - x[i, 3]))\n",
    "        w[i] = pos(x[i, 0] + mu[i][0]*y[i] - d[i])\n",
    "        l[i] = pos(d[i] - x[i, 0] - x[i, 1] - x[i, 2] - x[i, 3] - y[i])\n",
    "        if i < n - 1:\n",
    "            x[i+1, 0] = pos(x[i, 1] + mu[i][1]*y[i] - pos(d[i] - x[i, 0] - mu[i][0]*y[i]))\n",
    "            x[i+1, 1] = pos(x[i, 2] + mu[i][2]*y[i] - pos(d[i] - x[i, 0] - mu[i][0]*y[i] - x[i, 1] - mu[i][1]*y[i]))\n",
    "            x[i+1, 2] = pos(x[i, 3] + mu[i][3]*y[i] - pos(d[i] - x[i, 0] - mu[i][0]*y[i] - x[i, 1] - mu[i][1]*y[i] - x[i, 2] - mu[i][2]*y[i]))\n",
    "            x[i+1, 3] = pos(mu[i][4]*y[i] - pos(d[i] - x[i, 0] - mu[i][0]*y[i] - x[i, 1] - mu[i][1]*y[i] - x[i, 2] - mu[i][2]*y[i] - x[i, 3] - mu[i][3]*y[i]))\n",
    "            \n",
    "    return w, l"
   ]
  },
  {
   "cell_type": "code",
   "execution_count": 6,
   "id": "d94ee26c",
   "metadata": {},
   "outputs": [],
   "source": [
    "# hmu: hyperparameter \\mu\n",
    "def cross_validation(data, hmu = None, start = 9, cost=1):\n",
    "    \n",
    "    XX = data.iloc[0:731, 1:len(data.columns)]\n",
    "    d = data.iloc[0:731, 0]\n",
    "\n",
    "    n = XX.shape[0]\n",
    "    p = XX.shape[1]\n",
    "        \n",
    "    nfolds = 10\n",
    "    epsilons = [100-i for i in range(101)]\n",
    "\n",
    "    foldid = create_folds(n, nfolds)\n",
    "    w_cv = np.zeros((n, len(epsilons)))\n",
    "    l_cv = np.zeros((n, len(epsilons)))\n",
    "\n",
    "    XX = XX.values\n",
    "    XX = np.append(np.ones((n, 1)), XX, axis = 1)\n",
    "    \n",
    "    for k in tqdm(range(nfolds)):\n",
    "        coeffs = estimation(tdemdata, epsilon = epsilons, ind = np.where(foldid != k+1)[0], mu = hmu, c=cost)\n",
    "        pred1 = np.matmul(XX, coeffs)\n",
    "        \n",
    "        for eps in range(len(epsilons)):\n",
    "            wastage, shortage= compute_prediction_statistics(d, pred = pred1[:, eps], mu = hmu)\n",
    "            w_cv[np.where(foldid == k+1), eps] = wastage[np.where(foldid == k+1)]\n",
    "            l_cv[np.where(foldid == k+1), eps] = shortage[np.where(foldid == k+1)]\n",
    "    return w_cv, l_cv"
   ]
  },
  {
   "cell_type": "code",
   "execution_count": 7,
   "id": "5db53736",
   "metadata": {},
   "outputs": [
    {
     "data": {
      "text/html": [
       "<div>\n",
       "<style scoped>\n",
       "    .dataframe tbody tr th:only-of-type {\n",
       "        vertical-align: middle;\n",
       "    }\n",
       "\n",
       "    .dataframe tbody tr th {\n",
       "        vertical-align: top;\n",
       "    }\n",
       "\n",
       "    .dataframe thead th {\n",
       "        text-align: right;\n",
       "    }\n",
       "</style>\n",
       "<table border=\"1\" class=\"dataframe\">\n",
       "  <thead>\n",
       "    <tr style=\"text-align: right;\">\n",
       "      <th></th>\n",
       "      <th>Usage</th>\n",
       "      <th>Mon</th>\n",
       "      <th>Tue</th>\n",
       "      <th>Wed</th>\n",
       "      <th>Thu</th>\n",
       "      <th>Fri</th>\n",
       "      <th>Sat</th>\n",
       "      <th>Sun</th>\n",
       "      <th>LWU</th>\n",
       "    </tr>\n",
       "  </thead>\n",
       "  <tbody>\n",
       "    <tr>\n",
       "      <th>0</th>\n",
       "      <td>3</td>\n",
       "      <td>0</td>\n",
       "      <td>0</td>\n",
       "      <td>0</td>\n",
       "      <td>1</td>\n",
       "      <td>0</td>\n",
       "      <td>0</td>\n",
       "      <td>0</td>\n",
       "      <td>NaN</td>\n",
       "    </tr>\n",
       "    <tr>\n",
       "      <th>1</th>\n",
       "      <td>6</td>\n",
       "      <td>0</td>\n",
       "      <td>0</td>\n",
       "      <td>0</td>\n",
       "      <td>0</td>\n",
       "      <td>1</td>\n",
       "      <td>0</td>\n",
       "      <td>0</td>\n",
       "      <td>NaN</td>\n",
       "    </tr>\n",
       "    <tr>\n",
       "      <th>2</th>\n",
       "      <td>3</td>\n",
       "      <td>0</td>\n",
       "      <td>0</td>\n",
       "      <td>0</td>\n",
       "      <td>0</td>\n",
       "      <td>0</td>\n",
       "      <td>1</td>\n",
       "      <td>0</td>\n",
       "      <td>NaN</td>\n",
       "    </tr>\n",
       "    <tr>\n",
       "      <th>3</th>\n",
       "      <td>4</td>\n",
       "      <td>0</td>\n",
       "      <td>0</td>\n",
       "      <td>0</td>\n",
       "      <td>0</td>\n",
       "      <td>0</td>\n",
       "      <td>0</td>\n",
       "      <td>1</td>\n",
       "      <td>NaN</td>\n",
       "    </tr>\n",
       "    <tr>\n",
       "      <th>4</th>\n",
       "      <td>6</td>\n",
       "      <td>1</td>\n",
       "      <td>0</td>\n",
       "      <td>0</td>\n",
       "      <td>0</td>\n",
       "      <td>0</td>\n",
       "      <td>0</td>\n",
       "      <td>0</td>\n",
       "      <td>NaN</td>\n",
       "    </tr>\n",
       "    <tr>\n",
       "      <th>5</th>\n",
       "      <td>7</td>\n",
       "      <td>0</td>\n",
       "      <td>1</td>\n",
       "      <td>0</td>\n",
       "      <td>0</td>\n",
       "      <td>0</td>\n",
       "      <td>0</td>\n",
       "      <td>0</td>\n",
       "      <td>NaN</td>\n",
       "    </tr>\n",
       "    <tr>\n",
       "      <th>6</th>\n",
       "      <td>7</td>\n",
       "      <td>0</td>\n",
       "      <td>0</td>\n",
       "      <td>1</td>\n",
       "      <td>0</td>\n",
       "      <td>0</td>\n",
       "      <td>0</td>\n",
       "      <td>0</td>\n",
       "      <td>NaN</td>\n",
       "    </tr>\n",
       "    <tr>\n",
       "      <th>7</th>\n",
       "      <td>7</td>\n",
       "      <td>0</td>\n",
       "      <td>0</td>\n",
       "      <td>0</td>\n",
       "      <td>1</td>\n",
       "      <td>0</td>\n",
       "      <td>0</td>\n",
       "      <td>0</td>\n",
       "      <td>5.142857</td>\n",
       "    </tr>\n",
       "    <tr>\n",
       "      <th>8</th>\n",
       "      <td>6</td>\n",
       "      <td>0</td>\n",
       "      <td>0</td>\n",
       "      <td>0</td>\n",
       "      <td>0</td>\n",
       "      <td>1</td>\n",
       "      <td>0</td>\n",
       "      <td>0</td>\n",
       "      <td>5.714286</td>\n",
       "    </tr>\n",
       "    <tr>\n",
       "      <th>9</th>\n",
       "      <td>4</td>\n",
       "      <td>0</td>\n",
       "      <td>0</td>\n",
       "      <td>0</td>\n",
       "      <td>0</td>\n",
       "      <td>0</td>\n",
       "      <td>1</td>\n",
       "      <td>0</td>\n",
       "      <td>5.714286</td>\n",
       "    </tr>\n",
       "  </tbody>\n",
       "</table>\n",
       "</div>"
      ],
      "text/plain": [
       "   Usage  Mon  Tue  Wed  Thu  Fri  Sat  Sun       LWU\n",
       "0      3    0    0    0    1    0    0    0       NaN\n",
       "1      6    0    0    0    0    1    0    0       NaN\n",
       "2      3    0    0    0    0    0    1    0       NaN\n",
       "3      4    0    0    0    0    0    0    1       NaN\n",
       "4      6    1    0    0    0    0    0    0       NaN\n",
       "5      7    0    1    0    0    0    0    0       NaN\n",
       "6      7    0    0    1    0    0    0    0       NaN\n",
       "7      7    0    0    0    1    0    0    0  5.142857\n",
       "8      6    0    0    0    0    1    0    0  5.714286\n",
       "9      4    0    0    0    0    0    1    0  5.714286"
      ]
     },
     "execution_count": 7,
     "metadata": {},
     "output_type": "execute_result"
    }
   ],
   "source": [
    "# Read the DataFrame prepared for prediction, with the first column indicating the demand values and the other columns features values for 731 days (within the years 2015-2017)\n",
    "tdemdata = pd.read_csv('SampleData.csv')\n",
    "tdemdata.head(10)"
   ]
  },
  {
   "cell_type": "code",
   "execution_count": 9,
   "id": "eea4290d",
   "metadata": {},
   "outputs": [
    {
     "name": "stderr",
     "output_type": "stream",
     "text": [
      "100%|██████████████████████████████████████████████████████████████████████████████████| 10/10 [00:48<00:00,  4.84s/it]\n",
      "100%|██████████████████████████████████████████████████████████████████████████████████| 10/10 [00:49<00:00,  4.95s/it]\n",
      "100%|██████████████████████████████████████████████████████████████████████████████████| 10/10 [00:49<00:00,  4.98s/it]\n",
      "100%|██████████████████████████████████████████████████████████████████████████████████| 10/10 [00:49<00:00,  4.96s/it]\n",
      "100%|██████████████████████████████████████████████████████████████████████████████████| 10/10 [00:50<00:00,  5.02s/it]\n"
     ]
    },
    {
     "data": {
      "text/plain": [
       "array([  4., 100.,   1.,   3.,   1.])"
      ]
     },
     "execution_count": 9,
     "metadata": {},
     "output_type": "execute_result"
    }
   ],
   "source": [
    "# Find the best value of the epsilon parameter for each possible remaining age hyperparameter \\mu.\n",
    "c = 1\n",
    "epsilons = [100-i for i in range(101)]\n",
    "age_epsilon = np.zeros(5)\n",
    "for i in range(5):\n",
    "    hypermu = np.zeros((731, 5))\n",
    "    hypermu[:,i] = np.ones(731)\n",
    "    w_cv, l_cv = cross_validation(tdemdata, hmu = hypermu, cost = c)\n",
    "    w_cv = pd.DataFrame(data=w_cv)\n",
    "    l_cv = pd.DataFrame(data=l_cv)\n",
    "    cv_loss = w_cv[9:].sum(axis = 0) + c*l_cv[9:].sum(axis = 0)\n",
    "    index = cv_loss.idxmin()\n",
    "    age_epsilon[i] = epsilons[index]\n",
    "age_epsilon    "
   ]
  },
  {
   "cell_type": "markdown",
   "id": "675409a8",
   "metadata": {},
   "source": [
    "Now, for each value of $\\mu$  parameter, we determine the cross-validation estimate of the mean and variance of the prediction cost with the multiple sample paths generated for the uncertain remaining age. To select the best $\\mu$, we apply the subset selection procedure described in the book below.\n",
    "\n",
    "Nelson, B., 2013. Foundations and methods of stochastic simulation: a first course. Springer Science & Business Media."
   ]
  },
  {
   "cell_type": "code",
   "execution_count": 10,
   "id": "dd9428e7",
   "metadata": {},
   "outputs": [],
   "source": [
    "def compute_prediction_statistics_under_variability (d, pred, age_simulated, replication, ind = None, start = 9):\n",
    "    \n",
    "    n = len(d)\n",
    "\n",
    "    if ind is None:\n",
    "        ind = np.arange(n)\n",
    "        \n",
    "    w = np.zeros((n, replication))\n",
    "    l = np.zeros((n, replication))    \n",
    "    y = np.zeros((n, replication))\n",
    "\n",
    "    np.random.seed(123)\n",
    "\n",
    "    for rep in range(replication):    \n",
    "        \n",
    "        x = np.zeros((n, 4))\n",
    "        rage = np.zeros((n, 5))\n",
    "        \n",
    "        for i in range(start, n, 1):\n",
    "            if i in ind:\n",
    "                y[i, rep] = np.ceil(pos(pred[i] - x[i, 0] - x[i, 1] - x[i, 2] - x[i, 3]))\n",
    "                sage = age_simulated[rep][i, 0:int(y[i, rep])]\n",
    "                rage[i, 0] = len(np.where(sage == 1)[0])\n",
    "                rage[i, 1] = len(np.where(sage == 2)[0])\n",
    "                rage[i, 2] = len(np.where(sage == 3)[0])\n",
    "                rage[i, 3] = len(np.where(sage == 4)[0])\n",
    "                rage[i, 4] = len(np.where(sage == 5)[0])\n",
    "\n",
    "                w[i, rep] = pos(x[i, 0] + rage[i, 0] - d[i])\n",
    "                l[i, rep] = pos(d[i] - x[i, 0] - x[i, 1] - x[i, 2] - x[i, 3] - y[i, rep])\n",
    "                if i < n - 1:\n",
    "                    x[i+1, 0] = pos(x[i, 1] + rage[i, 1] - pos(d[i] - x[i, 0] - rage[i, 0]))\n",
    "                    x[i+1, 1] = pos(x[i, 2] + rage[i, 2] - pos(d[i] - x[i, 0] - rage[i, 0] - x[i, 1] - rage[i, 1]))\n",
    "                    x[i+1, 2] = pos(x[i, 3] + rage[i, 3] - pos(d[i] - x[i, 0] - rage[i, 0] - x[i, 1] - rage[i, 1] - x[i, 2] - rage[i, 2]))\n",
    "                    x[i+1, 3] = pos(rage[i, 4] - pos(d[i] - x[i, 0] - rage[i, 0] - x[i, 1] - rage[i, 1] - x[i, 2] - rage[i, 2] - x[i, 3] - rage[i, 3]))\n",
    "\n",
    "    return w, l"
   ]
  },
  {
   "cell_type": "code",
   "execution_count": 11,
   "id": "3e610613",
   "metadata": {},
   "outputs": [],
   "source": [
    "def cross_validation_under_variability(data, simulated_age, rep = 80, start = 9, cost=1):\n",
    "    \n",
    "    XX = data.iloc[0:731, 1:len(data.columns)]\n",
    "    d = data.iloc[0:731, 0]\n",
    "\n",
    "    n = XX.shape[0]\n",
    "    p = XX.shape[1]\n",
    "        \n",
    "    nfolds = 10\n",
    "\n",
    "    foldid = create_folds(n, nfolds)\n",
    "    w_cv = [np.zeros((n, rep)) for i in range(5)]\n",
    "    l_cv = [np.zeros((n, rep)) for i in range(5)]\n",
    "\n",
    "    for k in tqdm(range(nfolds)):\n",
    "        for r in range(5):\n",
    "            hmu = np.zeros((n, 5))\n",
    "            hmu[:, r] = np.ones(n)\n",
    "            coeffs = estimation(tdemdata, epsilon = [age_epsilon[r]], ind = np.where(foldid != k+1)[0], mu = hmu, c=cost)\n",
    "            pred = [coeffs[0] + sum(coeffs[j+1]*XX.iloc[i,j] for j in range(p)) for i in range(n)]\n",
    "            \n",
    "            wastage, shortage = compute_prediction_statistics_under_variability(d, pred, age_simulated = simulated_age, replication = rep, ind = np.where(foldid == k+1)[0])\n",
    "            \n",
    "            w_cv[r][np.where(foldid == k+1)] = wastage[np.where(foldid == k+1)]\n",
    "            l_cv[r][np.where(foldid == k+1)] = shortage[np.where(foldid == k+1)]\n",
    "    return w_cv, l_cv"
   ]
  },
  {
   "cell_type": "code",
   "execution_count": 12,
   "id": "662672e8",
   "metadata": {},
   "outputs": [
    {
     "data": {
      "text/plain": [
       "array([[4., 5., 5., ..., 5., 3., 5.],\n",
       "       [3., 2., 4., ..., 3., 4., 3.],\n",
       "       [1., 2., 2., ..., 2., 3., 3.],\n",
       "       ...,\n",
       "       [6., 4., 5., ..., 5., 4., 3.],\n",
       "       [4., 5., 2., ..., 4., 3., 4.],\n",
       "       [4., 5., 5., ..., 5., 3., 4.]])"
      ]
     },
     "execution_count": 12,
     "metadata": {},
     "output_type": "execute_result"
    }
   ],
   "source": [
    "# Data comes from 80 replications generating 50 remaining age samples for each of 731 days within the years 2015-2016.\n",
    "open_file = open(\"SimulatedAgeData\", \"rb\")\n",
    "age_simulated = pickle.load(open_file)\n",
    "open_file.close()\n",
    "# See for example the samples generated in the 1st replication, which is an array with 731 rows and 50 columns.\n",
    "age_simulated[0]"
   ]
  },
  {
   "cell_type": "code",
   "execution_count": 13,
   "id": "ac40f87d",
   "metadata": {},
   "outputs": [
    {
     "name": "stderr",
     "output_type": "stream",
     "text": [
      "100%|██████████████████████████████████████████████████████████████████████████████████| 10/10 [01:04<00:00,  6.44s/it]\n"
     ]
    }
   ],
   "source": [
    "w_cv, l_cv = cross_validation_under_variability(tdemdata, age_simulated, cost = c)"
   ]
  },
  {
   "cell_type": "code",
   "execution_count": 14,
   "id": "28dae0d3",
   "metadata": {},
   "outputs": [],
   "source": [
    "# Mean of the prediction cost for each value of \\mu parameter\n",
    "Ybar = [np.mean(w_cv[i].sum(axis = 0) + c*l_cv[i].sum(axis = 0)) for i in range(5)] "
   ]
  },
  {
   "cell_type": "code",
   "execution_count": 15,
   "id": "c53a3b2f",
   "metadata": {},
   "outputs": [],
   "source": [
    "# Variance of the prediction cost for each value of \\mu parameter\n",
    "rep = 80\n",
    "S2 = [(rep/(rep-1))*np.var(w_cv[i].sum(axis = 0) + c*l_cv[i].sum(axis = 0)) for i in range(5)] "
   ]
  },
  {
   "cell_type": "code",
   "execution_count": 16,
   "id": "8c84b32b",
   "metadata": {},
   "outputs": [
    {
     "name": "stdout",
     "output_type": "stream",
     "text": [
      "[148.0, 4.0, 1.35, 1.0, 1.1] [0.0, 0.0, 0.23037974683544304, 0.0, 0.09113924050632911] [0, 0, 0, 4, 0]\n"
     ]
    }
   ],
   "source": [
    "# next do subset selection with k=5 designs\n",
    "alpha = 0.01\n",
    "k = 5\n",
    "tval = stats.t.ppf((1-alpha)**(1/(k-1)), rep-1)\n",
    "Subset = [1,2,3,4,5]\n",
    "for i in range(0,5):\n",
    "    for j in range(0,5):\n",
    "        if Ybar[i] > (Ybar[j]+tval*np.sqrt(S2[i]/rep + S2[j]/rep)):\n",
    "            Subset[i] = 0\n",
    "print(Ybar,S2,Subset)"
   ]
  },
  {
   "cell_type": "markdown",
   "id": "e89f0606",
   "metadata": {},
   "source": [
    "Finally, the model is refit using all training observations and the selected values of the tuning parameters."
   ]
  },
  {
   "cell_type": "code",
   "execution_count": 17,
   "id": "2ce3a76a",
   "metadata": {},
   "outputs": [],
   "source": [
    "hmu = np.zeros((731, 5))\n",
    "hmu[:,3] = np.ones(731) # The best remaining age value is \\mu = 4 days."
   ]
  },
  {
   "cell_type": "code",
   "execution_count": 18,
   "id": "8df00ff9",
   "metadata": {},
   "outputs": [
    {
     "name": "stdout",
     "output_type": "stream",
     "text": [
      "Parameter OutputFlag unchanged\n",
      "   Value: 1  Min: 0  Max: 1  Default: 1\n",
      "Gurobi Optimizer version 9.1.2 build v9.1.2rc0 (win64)\n",
      "Thread count: 4 physical cores, 8 logical processors, using up to 8 threads\n",
      "Optimize a model with 5075 rows, 8793 columns and 20982 nonzeros\n",
      "Model fingerprint: 0x92a46700\n",
      "Coefficient statistics:\n",
      "  Matrix range     [1e+00, 7e+00]\n",
      "  Objective range  [1e+00, 1e+00]\n",
      "  Bounds range     [1e+04, 1e+04]\n",
      "  RHS range        [1e+00, 9e+00]\n",
      "Presolve removed 3615 rows and 4454 columns\n",
      "Presolve time: 0.01s\n",
      "Presolved: 1460 rows, 4339 columns, 15883 nonzeros\n",
      "\n",
      "Iteration    Objective       Primal Inf.    Dual Inf.      Time\n",
      "       0    0.0000000e+00   3.425337e+06   0.000000e+00      0s\n",
      "     767    0.0000000e+00   0.000000e+00   0.000000e+00      0s\n",
      "\n",
      "Solved in 767 iterations and 0.04 seconds\n",
      "Optimal objective  0.000000000e+00\n"
     ]
    }
   ],
   "source": [
    "# c = 1\n",
    "coeffs = estimation(tdemdata, epsilon = [age_epsilon[3]], flag=1, mu = hmu, c=c)"
   ]
  },
  {
   "cell_type": "code",
   "execution_count": 19,
   "id": "34819f07",
   "metadata": {},
   "outputs": [],
   "source": [
    "indx = np.where(coeffs != 0)[0] # keep the indices of non-zero coefficient\n",
    "coeff_lasso = coeffs[:,0].tolist()"
   ]
  },
  {
   "cell_type": "code",
   "execution_count": 20,
   "id": "f5d99a1f",
   "metadata": {
    "scrolled": true
   },
   "outputs": [
    {
     "data": {
      "text/html": [
       "<div>\n",
       "<style scoped>\n",
       "    .dataframe tbody tr th:only-of-type {\n",
       "        vertical-align: middle;\n",
       "    }\n",
       "\n",
       "    .dataframe tbody tr th {\n",
       "        vertical-align: top;\n",
       "    }\n",
       "\n",
       "    .dataframe thead th {\n",
       "        text-align: right;\n",
       "    }\n",
       "</style>\n",
       "<table border=\"1\" class=\"dataframe\">\n",
       "  <thead>\n",
       "    <tr style=\"text-align: right;\">\n",
       "      <th></th>\n",
       "      <th>Covariate</th>\n",
       "      <th>Beta</th>\n",
       "    </tr>\n",
       "  </thead>\n",
       "  <tbody>\n",
       "    <tr>\n",
       "      <th>0</th>\n",
       "      <td>Constant</td>\n",
       "      <td>8.0</td>\n",
       "    </tr>\n",
       "    <tr>\n",
       "      <th>1</th>\n",
       "      <td>Mon</td>\n",
       "      <td>0.0</td>\n",
       "    </tr>\n",
       "    <tr>\n",
       "      <th>2</th>\n",
       "      <td>Tue</td>\n",
       "      <td>0.0</td>\n",
       "    </tr>\n",
       "    <tr>\n",
       "      <th>3</th>\n",
       "      <td>Wed</td>\n",
       "      <td>0.0</td>\n",
       "    </tr>\n",
       "    <tr>\n",
       "      <th>4</th>\n",
       "      <td>Thu</td>\n",
       "      <td>1.0</td>\n",
       "    </tr>\n",
       "    <tr>\n",
       "      <th>5</th>\n",
       "      <td>Fri</td>\n",
       "      <td>0.0</td>\n",
       "    </tr>\n",
       "    <tr>\n",
       "      <th>6</th>\n",
       "      <td>Sat</td>\n",
       "      <td>-1.0</td>\n",
       "    </tr>\n",
       "    <tr>\n",
       "      <th>7</th>\n",
       "      <td>Sun</td>\n",
       "      <td>-1.0</td>\n",
       "    </tr>\n",
       "    <tr>\n",
       "      <th>8</th>\n",
       "      <td>LWU</td>\n",
       "      <td>0.0</td>\n",
       "    </tr>\n",
       "  </tbody>\n",
       "</table>\n",
       "</div>"
      ],
      "text/plain": [
       "  Covariate  Beta\n",
       "0  Constant   8.0\n",
       "1       Mon   0.0\n",
       "2       Tue   0.0\n",
       "3       Wed   0.0\n",
       "4       Thu   1.0\n",
       "5       Fri   0.0\n",
       "6       Sat  -1.0\n",
       "7       Sun  -1.0\n",
       "8       LWU   0.0"
      ]
     },
     "execution_count": 20,
     "metadata": {},
     "output_type": "execute_result"
    }
   ],
   "source": [
    "Names = list(tdemdata.columns[1:len(tdemdata.columns)])\n",
    "Names.insert(0,'Constant')\n",
    "beta = {'Covariate': Names, 'Beta': coeff_lasso}\n",
    "beta = pd.DataFrame(data=beta)\n",
    "beta = np.round(beta,2)\n",
    "beta"
   ]
  },
  {
   "cell_type": "code",
   "execution_count": 21,
   "id": "afdb4050",
   "metadata": {},
   "outputs": [
    {
     "data": {
      "image/png": "[encoded data removed]",
      "text/plain": [
       "<Figure size 864x360 with 1 Axes>"
      ]
     },
     "metadata": {
      "needs_background": "light"
     },
     "output_type": "display_data"
    }
   ],
   "source": [
    "# Plot out-of-sample predictions\n",
    "XX = tdemdata.iloc[731:1096, 1:len(tdemdata.columns)].reset_index(drop=True)\n",
    "d = tdemdata.iloc[731:1096, 0].reset_index(drop=True)\n",
    "n = XX.shape[0]\n",
    "p = XX.shape[1]\n",
    "pred = [coeffs[0] + sum(coeffs[j+1]*XX.iloc[i,j] for j in range(p)) for i in range(n)]\n",
    "plt.figure(figsize=(12, 5))\n",
    "plt.plot(d, label = \"Demand\")\n",
    "plt.plot(pred, label = \"Required inventory\")\n",
    "plt.legend()\n",
    "plt.ylabel('Inventory level')\n",
    "plt.show()"
   ]
  },
  {
   "cell_type": "code",
   "execution_count": null,
   "id": "f78af63c",
   "metadata": {},
   "outputs": [],
   "source": []
  }
 ],
 "metadata": {
  "kernelspec": {
   "display_name": "Python 3",
   "language": "python",
   "name": "python3"
  },
  "language_info": {
   "codemirror_mode": {
    "name": "ipython",
    "version": 3
   },
   "file_extension": ".py",
   "mimetype": "text/x-python",
   "name": "python",
   "nbconvert_exporter": "python",
   "pygments_lexer": "ipython3",
   "version": "3.6.13"
  }
 },
 "nbformat": 4,
 "nbformat_minor": 5
}
